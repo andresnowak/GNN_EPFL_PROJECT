{
 "cells": [
  {
   "cell_type": "code",
   "execution_count": 2,
   "id": "7c574cd5",
   "metadata": {},
   "outputs": [],
   "source": [
    "from torch_geometric.nn.models import tgn"
   ]
  },
  {
   "cell_type": "code",
   "execution_count": null,
   "id": "374b78bb",
   "metadata": {},
   "outputs": [],
   "source": [
    "import torch\n",
    "import numpy as np\n",
    "\n",
    "# Example distance matrix\n",
    "D = np.array([\n",
    "    [0.0, 0.5, 2.1],\n",
    "    [0.5, 0.0, 1.7],\n",
    "    [2.1, 1.7, 0.0]\n",
    "])\n",
    "\n",
    "# Threshold to determine edges\n",
    "epsilon = 1.0\n",
    "\n",
    "# Build edge list based on the threshold\n",
    "src, dst, weights = [], [], []\n",
    "\n",
    "for i in range(D.shape[0]):\n",
    "    for j in range(D.shape[1]):\n",
    "        if i != j and D[i][j] <= epsilon:\n",
    "            src.append(i)\n",
    "            dst.append(j)\n",
    "            weights.append(1.0 / (1e-5 + D[i][j]))  # optional: inverse distance as weight\n",
    "\n",
    "# so to represent the adjacency matrix you use edge list and the other the weights?\n",
    "edge_index = torch.tensor([src, dst], dtype=torch.long)\n",
    "edge_weight = torch.tensor(weights, dtype=torch.float32)\n"
   ]
  },
  {
   "cell_type": "code",
   "execution_count": 4,
   "id": "09e58f81",
   "metadata": {},
   "outputs": [],
   "source": [
    "x = torch.randn((D.shape[0], 16))  # 3 nodes, 16 features each\n"
   ]
  },
  {
   "cell_type": "code",
   "execution_count": 5,
   "id": "f088e0bb",
   "metadata": {},
   "outputs": [],
   "source": [
    "from torch_geometric.nn import GCNConv\n",
    "\n",
    "conv = GCNConv(in_channels=16, out_channels=32)\n",
    "\n",
    "# Forward pass\n",
    "x_out = conv(x, edge_index, edge_weight)\n"
   ]
  },
  {
   "cell_type": "code",
   "execution_count": 6,
   "id": "f7cb67ff",
   "metadata": {},
   "outputs": [
    {
     "name": "stdout",
     "output_type": "stream",
     "text": [
      "tensor([[-3.2089e-01, -6.3288e-01, -1.8896e-01, -2.3628e-01, -2.8817e-01,\n",
      "          3.4328e-01,  6.7342e-01, -2.4728e-01, -3.5239e-01, -2.4342e-01,\n",
      "          3.2315e-01,  5.0067e-01, -2.5791e-01,  6.0807e-01, -4.8137e-01,\n",
      "          4.2984e-02, -3.7144e-01, -4.0818e-02,  4.5687e-01,  1.8449e-02,\n",
      "         -1.5940e-01, -8.6577e-02,  7.2570e-01,  9.0183e-01, -3.8834e-01,\n",
      "          9.1921e-02, -2.5331e-01,  3.8133e-01, -2.4998e-01, -1.9012e-01,\n",
      "          3.1951e-02, -4.5143e-01],\n",
      "        [-3.8717e-01, -5.7393e-01, -1.9860e-01,  2.0425e-01, -2.2687e-01,\n",
      "          3.6155e-01,  7.2146e-01, -3.6963e-01, -5.7922e-01, -1.8449e-01,\n",
      "          2.6313e-01,  1.2110e-01, -4.8737e-01,  8.1585e-02, -4.0970e-01,\n",
      "          1.6158e-01, -1.6580e-01,  3.4525e-01,  2.5812e-01, -9.0533e-02,\n",
      "         -5.5841e-02, -2.6969e-02,  6.7868e-01,  8.4918e-01, -3.6789e-02,\n",
      "          8.3061e-01, -1.2569e-01,  2.9951e-02, -5.1312e-01, -1.9402e-01,\n",
      "          6.2289e-02, -4.6807e-01],\n",
      "        [-1.9891e+00,  6.9298e-01, -6.3345e-01,  1.3664e+00,  4.9948e-01,\n",
      "          1.7169e-01,  1.1228e+00, -1.6735e-03, -2.5468e-01, -1.0570e+00,\n",
      "          1.1828e+00, -6.1431e-01,  7.2076e-02, -3.0699e-01, -2.6094e-01,\n",
      "         -7.4028e-01, -4.2138e-01,  8.9624e-01,  4.1764e-01,  4.4867e-05,\n",
      "         -8.3718e-01,  4.2562e-01, -6.7967e-02,  1.3969e+00,  9.6685e-03,\n",
      "          9.5845e-01, -2.2982e-02,  3.8903e-01,  4.4743e-01, -3.6320e-01,\n",
      "         -9.0273e-01, -2.0124e+00]], grad_fn=<AddBackward0>)\n"
     ]
    }
   ],
   "source": [
    "print(x_out)"
   ]
  },
  {
   "cell_type": "code",
   "execution_count": null,
   "id": "513fe4f9",
   "metadata": {},
   "outputs": [],
   "source": []
  }
 ],
 "metadata": {
  "kernelspec": {
   "display_name": "gnn_epfl",
   "language": "python",
   "name": "python3"
  },
  "language_info": {
   "codemirror_mode": {
    "name": "ipython",
    "version": 3
   },
   "file_extension": ".py",
   "mimetype": "text/x-python",
   "name": "python",
   "nbconvert_exporter": "python",
   "pygments_lexer": "ipython3",
   "version": "3.12.9"
  }
 },
 "nbformat": 4,
 "nbformat_minor": 5
}
